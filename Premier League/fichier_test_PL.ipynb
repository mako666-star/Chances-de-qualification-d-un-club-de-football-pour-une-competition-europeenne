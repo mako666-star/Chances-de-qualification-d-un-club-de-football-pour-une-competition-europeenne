{
 "cells": [
  {
   "cell_type": "code",
   "execution_count": 1,
   "id": "4d60c87c",
   "metadata": {},
   "outputs": [],
   "source": [
    "import pickle\n",
    "import pandas as pd\n",
    "import numpy as np\n",
    "from sklearn.linear_model import LogisticRegression\n",
    "\n",
    "import requests\n",
    "from bs4 import BeautifulSoup\n",
    "# from sklearn.Logit_model_reloaded import score\n",
    "# data_test = pd.read_csv(\"test_notes.csv\", sep=',')\n",
    "# 'Man U','Man C','CHEL','LFC','LEI',\"TOT\",\"ARS\",\"EVE\",\"WH\",\"WOL\""
   ]
  },
  {
   "cell_type": "code",
   "execution_count": 2,
   "id": "35279b81",
   "metadata": {},
   "outputs": [],
   "source": [
    "team_list_av = []\n",
    "x_av = []\n",
    "headers = {'User-Agent': 'Mozilla/5.0 (X11; Linux x86_64) AppleWebKit/537.36 (KHTML, like Gecko) Chrome/47.0.2526.106 Safari/537.36'}\n",
    "\n",
    "page = \"https://www.transfermarkt.fr/premier-league/startseite/wettbewerb/GB1\"\n",
    "pageTree = requests.get(page, headers=headers)\n",
    "soup = BeautifulSoup(pageTree.content, 'html.parser')\n",
    "body = soup.html.find('div',{'class':'large-8 columns'}).find_all('div',{'class':'box'})[1].find('div',{'class':'responsive-table'}).div.table.tbody.find_all('tr')\n",
    "ixo2 = []\n",
    "for g in body:\n",
    "\n",
    "    team_list_av.append(g.find('td',{'hauptlink no-border-links show-for-small show-for-pad'}).a.text)\n",
    "    ixo = g.find_all('td',{'class':'rechts show-for-small show-for-pad nowrap'})[1].text.replace(' mio. €','').replace(',','.')\n",
    "    \n",
    "\n",
    "    if 'mrd' in ixo:\n",
    "        ixo2.append(float(ixo.replace(' mrd. €',''))*1000)\n",
    "    else:\n",
    "        ixo2.append(ixo)\n",
    "        \n",
    "    x_av.append(ixo2)"
   ]
  },
  {
   "cell_type": "code",
   "execution_count": 3,
   "id": "55eb9c80",
   "metadata": {},
   "outputs": [],
   "source": [
    "value_model_av = pd.DataFrame({'Team':team_list_av,'Value':x_av[0]})\n",
    "value_model_av.to_csv('value_model_av_PL.csv',index=False)"
   ]
  },
  {
   "cell_type": "code",
   "execution_count": 4,
   "id": "c74436c4",
   "metadata": {},
   "outputs": [],
   "source": [
    "value_model_af = pd.read_csv('value_model_av_PL.csv',sep=',')"
   ]
  },
  {
   "cell_type": "code",
   "execution_count": 5,
   "id": "e24d3348",
   "metadata": {},
   "outputs": [
    {
     "name": "stdout",
     "output_type": "stream",
     "text": [
      "1040.0\n",
      "937.25\n",
      "882.5\n",
      "879.5\n",
      "697.0\n",
      "550.1\n",
      "548.5\n",
      "461.75\n",
      "408.3\n",
      "391.1\n",
      "354.75\n",
      "250.8\n",
      "248.1\n",
      "241.4\n",
      "241.3\n",
      "239.45\n",
      "189.55\n",
      "166.45\n",
      "145.3\n",
      "133.0\n"
     ]
    }
   ],
   "source": [
    "list_y = []\n",
    "x = value_model_af['Value']\n",
    "for i in x:\n",
    "    print(float(i))\n",
    "    list_y.append(0.00864271832605479*float(i) + -3.594282721496704)"
   ]
  },
  {
   "cell_type": "code",
   "execution_count": 6,
   "id": "afdbf2e1",
   "metadata": {},
   "outputs": [],
   "source": [
    "value_model = pd.DataFrame({'Team':value_model_af['Team'],'Value':value_model_af['Value'],'trend':list_y})"
   ]
  },
  {
   "cell_type": "code",
   "execution_count": 7,
   "id": "3d8e45da",
   "metadata": {},
   "outputs": [
    {
     "data": {
      "text/plain": [
       "13.181928138743912"
      ]
     },
     "execution_count": 7,
     "metadata": {},
     "output_type": "execute_result"
    }
   ],
   "source": [
    "0.00828658469316903*2000 + -3.391241247594151"
   ]
  },
  {
   "cell_type": "code",
   "execution_count": 8,
   "id": "813c4cc5",
   "metadata": {},
   "outputs": [],
   "source": [
    "# Récupération du modèle de Régression Logistique 'lr'\n",
    "with open('model_mhsc.pkl', 'rb') as f:\n",
    "    my_unpickler = pickle.Unpickler(f)\n",
    "    model_logit = my_unpickler.load()\n",
    "\n",
    "    y_pred = model_logit.predict_proba(value_model[['trend']].values) \n"
   ]
  },
  {
   "cell_type": "code",
   "execution_count": 9,
   "id": "00ddc00e",
   "metadata": {},
   "outputs": [
    {
     "name": "stdout",
     "output_type": "stream",
     "text": [
      "0.9927554298440714\n",
      "0.981426630703797\n",
      "0.96951319888206\n",
      "0.9686799798662732\n",
      "0.850570519072479\n",
      "0.5930673962987459\n",
      "0.5894812444671749\n",
      "0.39108814745497483\n",
      "0.281211132405749\n",
      "0.2501179893073708\n",
      "0.19230361944945945\n",
      "0.08323419657116189\n",
      "0.08134323584038489\n",
      "0.07681895444998496\n",
      "0.07675320762854608\n",
      "0.07554616394190429\n",
      "0.048927245669094434\n",
      "0.039867998353660436\n",
      "0.03300123477758126\n",
      "0.029548500125705115\n"
     ]
    }
   ],
   "source": [
    "for value in y_pred:\n",
    "    print(value[1])"
   ]
  },
  {
   "cell_type": "code",
   "execution_count": 10,
   "id": "9e309755",
   "metadata": {},
   "outputs": [],
   "source": [
    "# predictions = [round(value) for value in y_pred]\n",
    "# print(ytest)\n",
    "# precision = model_logit.score(value_model[['Value','trend']],predictions)\n",
    "# print(np.around(precision,decimals=2)*100,'%')"
   ]
  },
  {
   "cell_type": "code",
   "execution_count": 11,
   "id": "fe447c7d",
   "metadata": {},
   "outputs": [
    {
     "data": {
      "text/plain": [
       "array([[0.00724457, 0.99275543],\n",
       "       [0.01857337, 0.98142663],\n",
       "       [0.0304868 , 0.9695132 ],\n",
       "       [0.03132002, 0.96867998],\n",
       "       [0.14942948, 0.85057052],\n",
       "       [0.4069326 , 0.5930674 ],\n",
       "       [0.41051876, 0.58948124],\n",
       "       [0.60891185, 0.39108815],\n",
       "       [0.71878887, 0.28121113],\n",
       "       [0.74988201, 0.25011799],\n",
       "       [0.80769638, 0.19230362],\n",
       "       [0.9167658 , 0.0832342 ],\n",
       "       [0.91865676, 0.08134324],\n",
       "       [0.92318105, 0.07681895],\n",
       "       [0.92324679, 0.07675321],\n",
       "       [0.92445384, 0.07554616],\n",
       "       [0.95107275, 0.04892725],\n",
       "       [0.960132  , 0.039868  ],\n",
       "       [0.96699877, 0.03300123],\n",
       "       [0.9704515 , 0.0295485 ]])"
      ]
     },
     "execution_count": 11,
     "metadata": {},
     "output_type": "execute_result"
    }
   ],
   "source": [
    "y_pred"
   ]
  },
  {
   "cell_type": "code",
   "execution_count": 12,
   "id": "29648a4c",
   "metadata": {},
   "outputs": [
    {
     "name": "stdout",
     "output_type": "stream",
     "text": [
      "6 0 0\n",
      "6 1 1\n",
      "6 2 2\n",
      "6 3 3\n",
      "2 4 4\n",
      "2 5 4\n",
      "2 6 4\n",
      "2 7 4\n",
      "2 8 4\n",
      "2 9 4\n",
      "1 10 4\n",
      "1 11 4\n",
      "1 12 4\n",
      "1 13 4\n",
      "1 14 4\n",
      "1 15 4\n",
      "1 16 4\n",
      "1 17 4\n",
      "1 18 4\n",
      "1 19 4\n"
     ]
    }
   ],
   "source": [
    "predict = []\n",
    "prt_predict = []\n",
    "for i in y_pred:\n",
    "    prt_predict.append(i[1])\n",
    "value_model['pourcentage'] = prt_predict\n",
    "\n",
    "proba = 6\n",
    "count = 0\n",
    "proba_list = []\n",
    "high_count = 0\n",
    "for a,k,i in zip(value_model.sort_values(by='pourcentage',ascending=False)['trend'],value_model.sort_values(by='pourcentage',ascending=False)['Team'],value_model.sort_values(by='pourcentage',ascending=False)['pourcentage']):\n",
    "    if (proba == 6)&(a < 4):\n",
    "        proba = proba - high_count\n",
    "    \n",
    "    proba_list.append(np.around(i*(proba/6),decimals=3))\n",
    "    print(proba,count,high_count)\n",
    "    count = count + 1\n",
    "    if a > 4:\n",
    "        high_count = high_count + 1\n",
    "        continue\n",
    "    \n",
    "    if proba < 3:\n",
    "        if count == 10:\n",
    "            proba = proba - 1\n",
    "        else:\n",
    "            continue\n",
    "    else:\n",
    "        proba = proba - 1\n",
    "        \n",
    "value_model['pourcentage'] = proba_list\n",
    "        \n",
    "for i in list(value_model['pourcentage']):\n",
    "    if i < 0.5:\n",
    "        predict.append(False)\n",
    "    elif i > 0.5:\n",
    "        predict.append(True)\n",
    "    \n",
    "#print(len(predict))\n",
    "#print(len(y_pred[1]))\n",
    "value_model['predict'] = predict\n"
   ]
  },
  {
   "cell_type": "code",
   "execution_count": 13,
   "id": "859890a3",
   "metadata": {},
   "outputs": [
    {
     "name": "stdout",
     "output_type": "stream",
     "text": [
      "Prédictions : Manchester City  :  0.99  %\n",
      "Prédictions : Manchester Utd.  :  0.98  %\n",
      "Prédictions : Chelsea  :  0.97  %\n",
      "Prédictions : FC Liverpool  :  0.97  %\n",
      "Prédictions : Tottenham  :  0.85  %\n"
     ]
    }
   ],
   "source": [
    "print('Prédictions :', value_model['Team'][0],' : ', np.around(y_pred[0][1],decimals=2),' %')\n",
    "print('Prédictions :', value_model['Team'][1],' : ', np.around(y_pred[1][1],decimals=2),' %')\n",
    "print('Prédictions :', value_model['Team'][2],' : ', np.around(y_pred[2][1],decimals=2),' %')\n",
    "print('Prédictions :', value_model['Team'][3],' : ', np.around(y_pred[3][1],decimals=2),' %')\n",
    "print('Prédictions :', value_model['Team'][4],' : ', np.around(y_pred[4][1],decimals=2),' %')"
   ]
  },
  {
   "cell_type": "code",
   "execution_count": 14,
   "id": "ebfbf979",
   "metadata": {},
   "outputs": [],
   "source": [
    "# value_model = pd.read_csv('model_result_PL.csv',sep=',')"
   ]
  },
  {
   "cell_type": "code",
   "execution_count": 15,
   "id": "6526a909",
   "metadata": {},
   "outputs": [],
   "source": [
    "# proba = 6\n",
    "# for k,i in zip(value_model.sort_values(by='pourcentage',ascending=False)['Team'],value_model.sort_values(by='pourcentage',ascending=False)['pourcentage']):\n",
    "#     print(k,np.around(i*(proba/6),decimals=3))\n",
    "#     if proba < 3:\n",
    "#         continue\n",
    "#     else:\n",
    "#         proba = proba - 1"
   ]
  },
  {
   "cell_type": "code",
   "execution_count": 16,
   "id": "0dfcd158",
   "metadata": {},
   "outputs": [
    {
     "data": {
      "text/html": [
       "<div>\n",
       "<style scoped>\n",
       "    .dataframe tbody tr th:only-of-type {\n",
       "        vertical-align: middle;\n",
       "    }\n",
       "\n",
       "    .dataframe tbody tr th {\n",
       "        vertical-align: top;\n",
       "    }\n",
       "\n",
       "    .dataframe thead th {\n",
       "        text-align: right;\n",
       "    }\n",
       "</style>\n",
       "<table border=\"1\" class=\"dataframe\">\n",
       "  <thead>\n",
       "    <tr style=\"text-align: right;\">\n",
       "      <th></th>\n",
       "      <th>Team</th>\n",
       "      <th>Value</th>\n",
       "      <th>trend</th>\n",
       "      <th>pourcentage</th>\n",
       "      <th>predict</th>\n",
       "    </tr>\n",
       "  </thead>\n",
       "  <tbody>\n",
       "    <tr>\n",
       "      <th>0</th>\n",
       "      <td>Manchester City</td>\n",
       "      <td>1040.00</td>\n",
       "      <td>5.394144</td>\n",
       "      <td>0.993</td>\n",
       "      <td>True</td>\n",
       "    </tr>\n",
       "    <tr>\n",
       "      <th>1</th>\n",
       "      <td>Manchester Utd.</td>\n",
       "      <td>937.25</td>\n",
       "      <td>4.506105</td>\n",
       "      <td>0.981</td>\n",
       "      <td>True</td>\n",
       "    </tr>\n",
       "    <tr>\n",
       "      <th>2</th>\n",
       "      <td>Chelsea</td>\n",
       "      <td>882.50</td>\n",
       "      <td>4.032916</td>\n",
       "      <td>0.970</td>\n",
       "      <td>True</td>\n",
       "    </tr>\n",
       "    <tr>\n",
       "      <th>3</th>\n",
       "      <td>FC Liverpool</td>\n",
       "      <td>879.50</td>\n",
       "      <td>4.006988</td>\n",
       "      <td>0.969</td>\n",
       "      <td>True</td>\n",
       "    </tr>\n",
       "    <tr>\n",
       "      <th>4</th>\n",
       "      <td>Tottenham</td>\n",
       "      <td>697.00</td>\n",
       "      <td>2.429692</td>\n",
       "      <td>0.284</td>\n",
       "      <td>False</td>\n",
       "    </tr>\n",
       "    <tr>\n",
       "      <th>5</th>\n",
       "      <td>Leicester City</td>\n",
       "      <td>550.10</td>\n",
       "      <td>1.160077</td>\n",
       "      <td>0.198</td>\n",
       "      <td>False</td>\n",
       "    </tr>\n",
       "    <tr>\n",
       "      <th>6</th>\n",
       "      <td>FC Arsenal</td>\n",
       "      <td>548.50</td>\n",
       "      <td>1.146248</td>\n",
       "      <td>0.196</td>\n",
       "      <td>False</td>\n",
       "    </tr>\n",
       "    <tr>\n",
       "      <th>7</th>\n",
       "      <td>FC Everton</td>\n",
       "      <td>461.75</td>\n",
       "      <td>0.396492</td>\n",
       "      <td>0.130</td>\n",
       "      <td>False</td>\n",
       "    </tr>\n",
       "    <tr>\n",
       "      <th>8</th>\n",
       "      <td>Aston Villa</td>\n",
       "      <td>408.30</td>\n",
       "      <td>-0.065461</td>\n",
       "      <td>0.094</td>\n",
       "      <td>False</td>\n",
       "    </tr>\n",
       "    <tr>\n",
       "      <th>9</th>\n",
       "      <td>Wolverhampton</td>\n",
       "      <td>391.10</td>\n",
       "      <td>-0.214116</td>\n",
       "      <td>0.083</td>\n",
       "      <td>False</td>\n",
       "    </tr>\n",
       "    <tr>\n",
       "      <th>10</th>\n",
       "      <td>West Ham Utd.</td>\n",
       "      <td>354.75</td>\n",
       "      <td>-0.528278</td>\n",
       "      <td>0.032</td>\n",
       "      <td>False</td>\n",
       "    </tr>\n",
       "    <tr>\n",
       "      <th>11</th>\n",
       "      <td>Leeds United</td>\n",
       "      <td>250.80</td>\n",
       "      <td>-1.426689</td>\n",
       "      <td>0.014</td>\n",
       "      <td>False</td>\n",
       "    </tr>\n",
       "    <tr>\n",
       "      <th>12</th>\n",
       "      <td>Brighton</td>\n",
       "      <td>248.10</td>\n",
       "      <td>-1.450024</td>\n",
       "      <td>0.014</td>\n",
       "      <td>False</td>\n",
       "    </tr>\n",
       "    <tr>\n",
       "      <th>13</th>\n",
       "      <td>Newcastle Utd.</td>\n",
       "      <td>241.40</td>\n",
       "      <td>-1.507931</td>\n",
       "      <td>0.013</td>\n",
       "      <td>False</td>\n",
       "    </tr>\n",
       "    <tr>\n",
       "      <th>14</th>\n",
       "      <td>FC Southampton</td>\n",
       "      <td>241.30</td>\n",
       "      <td>-1.508795</td>\n",
       "      <td>0.013</td>\n",
       "      <td>False</td>\n",
       "    </tr>\n",
       "    <tr>\n",
       "      <th>15</th>\n",
       "      <td>Crystal Palace</td>\n",
       "      <td>239.45</td>\n",
       "      <td>-1.524784</td>\n",
       "      <td>0.013</td>\n",
       "      <td>False</td>\n",
       "    </tr>\n",
       "    <tr>\n",
       "      <th>16</th>\n",
       "      <td>Norwich</td>\n",
       "      <td>189.55</td>\n",
       "      <td>-1.956055</td>\n",
       "      <td>0.008</td>\n",
       "      <td>False</td>\n",
       "    </tr>\n",
       "    <tr>\n",
       "      <th>17</th>\n",
       "      <td>Brentford</td>\n",
       "      <td>166.45</td>\n",
       "      <td>-2.155702</td>\n",
       "      <td>0.007</td>\n",
       "      <td>False</td>\n",
       "    </tr>\n",
       "    <tr>\n",
       "      <th>18</th>\n",
       "      <td>Burnley FC</td>\n",
       "      <td>145.30</td>\n",
       "      <td>-2.338496</td>\n",
       "      <td>0.006</td>\n",
       "      <td>False</td>\n",
       "    </tr>\n",
       "    <tr>\n",
       "      <th>19</th>\n",
       "      <td>Watford</td>\n",
       "      <td>133.00</td>\n",
       "      <td>-2.444801</td>\n",
       "      <td>0.005</td>\n",
       "      <td>False</td>\n",
       "    </tr>\n",
       "  </tbody>\n",
       "</table>\n",
       "</div>"
      ],
      "text/plain": [
       "               Team    Value     trend  pourcentage  predict\n",
       "0   Manchester City  1040.00  5.394144        0.993     True\n",
       "1   Manchester Utd.   937.25  4.506105        0.981     True\n",
       "2           Chelsea   882.50  4.032916        0.970     True\n",
       "3      FC Liverpool   879.50  4.006988        0.969     True\n",
       "4         Tottenham   697.00  2.429692        0.284    False\n",
       "5    Leicester City   550.10  1.160077        0.198    False\n",
       "6        FC Arsenal   548.50  1.146248        0.196    False\n",
       "7        FC Everton   461.75  0.396492        0.130    False\n",
       "8       Aston Villa   408.30 -0.065461        0.094    False\n",
       "9     Wolverhampton   391.10 -0.214116        0.083    False\n",
       "10    West Ham Utd.   354.75 -0.528278        0.032    False\n",
       "11     Leeds United   250.80 -1.426689        0.014    False\n",
       "12         Brighton   248.10 -1.450024        0.014    False\n",
       "13   Newcastle Utd.   241.40 -1.507931        0.013    False\n",
       "14   FC Southampton   241.30 -1.508795        0.013    False\n",
       "15   Crystal Palace   239.45 -1.524784        0.013    False\n",
       "16          Norwich   189.55 -1.956055        0.008    False\n",
       "17        Brentford   166.45 -2.155702        0.007    False\n",
       "18       Burnley FC   145.30 -2.338496        0.006    False\n",
       "19          Watford   133.00 -2.444801        0.005    False"
      ]
     },
     "execution_count": 16,
     "metadata": {},
     "output_type": "execute_result"
    }
   ],
   "source": [
    "value_model"
   ]
  },
  {
   "cell_type": "code",
   "execution_count": 17,
   "id": "c5036ff4",
   "metadata": {},
   "outputs": [],
   "source": [
    "value_model.to_csv('../model_result_PL.csv',index=False)"
   ]
  },
  {
   "cell_type": "code",
   "execution_count": null,
   "id": "9a11f8b4",
   "metadata": {},
   "outputs": [],
   "source": []
  }
 ],
 "metadata": {
  "kernelspec": {
   "display_name": "Python 3",
   "language": "python",
   "name": "python3"
  },
  "language_info": {
   "codemirror_mode": {
    "name": "ipython",
    "version": 3
   },
   "file_extension": ".py",
   "mimetype": "text/x-python",
   "name": "python",
   "nbconvert_exporter": "python",
   "pygments_lexer": "ipython3",
   "version": "3.8.5"
  }
 },
 "nbformat": 4,
 "nbformat_minor": 5
}
